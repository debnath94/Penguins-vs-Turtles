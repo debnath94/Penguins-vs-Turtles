{
 "cells": [
  {
   "cell_type": "code",
   "execution_count": 11,
   "id": "e43edabe",
   "metadata": {},
   "outputs": [],
   "source": [
    "import pandas as pd\n",
    "import numpy as np\n",
    "import os"
   ]
  },
  {
   "cell_type": "code",
   "execution_count": 4,
   "id": "aef15616",
   "metadata": {},
   "outputs": [],
   "source": [
    "train_anno = pd.read_json(r\"E:\\LiveProject\\Deep_Learning\\Penguins vs Turtles\\train_annotations\")"
   ]
  },
  {
   "cell_type": "code",
   "execution_count": 5,
   "id": "91c9284d",
   "metadata": {},
   "outputs": [
    {
     "data": {
      "text/html": [
       "<div>\n",
       "<style scoped>\n",
       "    .dataframe tbody tr th:only-of-type {\n",
       "        vertical-align: middle;\n",
       "    }\n",
       "\n",
       "    .dataframe tbody tr th {\n",
       "        vertical-align: top;\n",
       "    }\n",
       "\n",
       "    .dataframe thead th {\n",
       "        text-align: right;\n",
       "    }\n",
       "</style>\n",
       "<table border=\"1\" class=\"dataframe\">\n",
       "  <thead>\n",
       "    <tr style=\"text-align: right;\">\n",
       "      <th></th>\n",
       "      <th>id</th>\n",
       "      <th>image_id</th>\n",
       "      <th>category_id</th>\n",
       "      <th>bbox</th>\n",
       "      <th>area</th>\n",
       "      <th>segmentation</th>\n",
       "      <th>iscrowd</th>\n",
       "    </tr>\n",
       "  </thead>\n",
       "  <tbody>\n",
       "    <tr>\n",
       "      <th>0</th>\n",
       "      <td>0</td>\n",
       "      <td>0</td>\n",
       "      <td>1</td>\n",
       "      <td>[119, 25, 205, 606]</td>\n",
       "      <td>124230</td>\n",
       "      <td>[]</td>\n",
       "      <td>0</td>\n",
       "    </tr>\n",
       "    <tr>\n",
       "      <th>1</th>\n",
       "      <td>1</td>\n",
       "      <td>1</td>\n",
       "      <td>1</td>\n",
       "      <td>[131, 82, 327, 440]</td>\n",
       "      <td>143880</td>\n",
       "      <td>[]</td>\n",
       "      <td>0</td>\n",
       "    </tr>\n",
       "    <tr>\n",
       "      <th>2</th>\n",
       "      <td>2</td>\n",
       "      <td>2</td>\n",
       "      <td>2</td>\n",
       "      <td>[225, 298, 198, 185]</td>\n",
       "      <td>36630</td>\n",
       "      <td>[]</td>\n",
       "      <td>0</td>\n",
       "    </tr>\n",
       "    <tr>\n",
       "      <th>3</th>\n",
       "      <td>3</td>\n",
       "      <td>3</td>\n",
       "      <td>2</td>\n",
       "      <td>[468, 109, 172, 193]</td>\n",
       "      <td>33196</td>\n",
       "      <td>[]</td>\n",
       "      <td>0</td>\n",
       "    </tr>\n",
       "    <tr>\n",
       "      <th>4</th>\n",
       "      <td>4</td>\n",
       "      <td>4</td>\n",
       "      <td>1</td>\n",
       "      <td>[14, 242, 611, 154]</td>\n",
       "      <td>94094</td>\n",
       "      <td>[]</td>\n",
       "      <td>0</td>\n",
       "    </tr>\n",
       "  </tbody>\n",
       "</table>\n",
       "</div>"
      ],
      "text/plain": [
       "   id  image_id  category_id                  bbox    area segmentation  \\\n",
       "0   0         0            1   [119, 25, 205, 606]  124230           []   \n",
       "1   1         1            1   [131, 82, 327, 440]  143880           []   \n",
       "2   2         2            2  [225, 298, 198, 185]   36630           []   \n",
       "3   3         3            2  [468, 109, 172, 193]   33196           []   \n",
       "4   4         4            1   [14, 242, 611, 154]   94094           []   \n",
       "\n",
       "   iscrowd  \n",
       "0        0  \n",
       "1        0  \n",
       "2        0  \n",
       "3        0  \n",
       "4        0  "
      ]
     },
     "execution_count": 5,
     "metadata": {},
     "output_type": "execute_result"
    }
   ],
   "source": [
    "train_anno.head()"
   ]
  },
  {
   "cell_type": "code",
   "execution_count": 6,
   "id": "181018ea",
   "metadata": {},
   "outputs": [
    {
     "data": {
      "text/plain": [
       "array([1, 2], dtype=int64)"
      ]
     },
     "execution_count": 6,
     "metadata": {},
     "output_type": "execute_result"
    }
   ],
   "source": [
    "# lets see how many classes are present in the category id\n",
    "train_anno[\"category_id\"]. unique()"
   ]
  },
  {
   "cell_type": "code",
   "execution_count": 7,
   "id": "f641aea8",
   "metadata": {},
   "outputs": [],
   "source": [
    "# if image_id 0 is penguin, class 1 indicates the penguin, class 2 indicates the turtle\n",
    "# deleting unwanted columns\n",
    "train_anno = train_anno. drop([\"id\", \"bbox\", \"area\", \"segmentation\", \"iscrowd\"], axis = 1)"
   ]
  },
  {
   "cell_type": "code",
   "execution_count": 8,
   "id": "e5088613",
   "metadata": {},
   "outputs": [],
   "source": [
    "train_anno[\"category_id\"] = train_anno[\"category_id\"]. replace({1:\"Penguin\", 2:\"Turtle\"})"
   ]
  },
  {
   "cell_type": "code",
   "execution_count": 9,
   "id": "78e65942",
   "metadata": {},
   "outputs": [
    {
     "data": {
      "text/html": [
       "<div>\n",
       "<style scoped>\n",
       "    .dataframe tbody tr th:only-of-type {\n",
       "        vertical-align: middle;\n",
       "    }\n",
       "\n",
       "    .dataframe tbody tr th {\n",
       "        vertical-align: top;\n",
       "    }\n",
       "\n",
       "    .dataframe thead th {\n",
       "        text-align: right;\n",
       "    }\n",
       "</style>\n",
       "<table border=\"1\" class=\"dataframe\">\n",
       "  <thead>\n",
       "    <tr style=\"text-align: right;\">\n",
       "      <th></th>\n",
       "      <th>image_id</th>\n",
       "      <th>category_id</th>\n",
       "    </tr>\n",
       "  </thead>\n",
       "  <tbody>\n",
       "    <tr>\n",
       "      <th>0</th>\n",
       "      <td>0</td>\n",
       "      <td>Penguin</td>\n",
       "    </tr>\n",
       "    <tr>\n",
       "      <th>1</th>\n",
       "      <td>1</td>\n",
       "      <td>Penguin</td>\n",
       "    </tr>\n",
       "    <tr>\n",
       "      <th>2</th>\n",
       "      <td>2</td>\n",
       "      <td>Turtle</td>\n",
       "    </tr>\n",
       "    <tr>\n",
       "      <th>3</th>\n",
       "      <td>3</td>\n",
       "      <td>Turtle</td>\n",
       "    </tr>\n",
       "    <tr>\n",
       "      <th>4</th>\n",
       "      <td>4</td>\n",
       "      <td>Penguin</td>\n",
       "    </tr>\n",
       "  </tbody>\n",
       "</table>\n",
       "</div>"
      ],
      "text/plain": [
       "   image_id category_id\n",
       "0         0     Penguin\n",
       "1         1     Penguin\n",
       "2         2      Turtle\n",
       "3         3      Turtle\n",
       "4         4     Penguin"
      ]
     },
     "execution_count": 9,
     "metadata": {},
     "output_type": "execute_result"
    }
   ],
   "source": [
    "train_anno. head()"
   ]
  },
  {
   "cell_type": "code",
   "execution_count": null,
   "id": "f6803df8",
   "metadata": {},
   "outputs": [],
   "source": [
    "#I want to create a dataframe with 2 columns filepaths and labels where the entries in the filepaths\n",
    "# column is the full path to the image file and the entries in the labels column is the text label of\n",
    "# of the class\n",
    "# first lets change the column names"
   ]
  },
  {
   "cell_type": "code",
   "execution_count": 10,
   "id": "ed21ea2e",
   "metadata": {},
   "outputs": [
    {
     "data": {
      "text/html": [
       "<div>\n",
       "<style scoped>\n",
       "    .dataframe tbody tr th:only-of-type {\n",
       "        vertical-align: middle;\n",
       "    }\n",
       "\n",
       "    .dataframe tbody tr th {\n",
       "        vertical-align: top;\n",
       "    }\n",
       "\n",
       "    .dataframe thead th {\n",
       "        text-align: right;\n",
       "    }\n",
       "</style>\n",
       "<table border=\"1\" class=\"dataframe\">\n",
       "  <thead>\n",
       "    <tr style=\"text-align: right;\">\n",
       "      <th></th>\n",
       "      <th>filepaths</th>\n",
       "      <th>labels</th>\n",
       "    </tr>\n",
       "  </thead>\n",
       "  <tbody>\n",
       "    <tr>\n",
       "      <th>0</th>\n",
       "      <td>0</td>\n",
       "      <td>Penguin</td>\n",
       "    </tr>\n",
       "    <tr>\n",
       "      <th>1</th>\n",
       "      <td>1</td>\n",
       "      <td>Penguin</td>\n",
       "    </tr>\n",
       "    <tr>\n",
       "      <th>2</th>\n",
       "      <td>2</td>\n",
       "      <td>Turtle</td>\n",
       "    </tr>\n",
       "    <tr>\n",
       "      <th>3</th>\n",
       "      <td>3</td>\n",
       "      <td>Turtle</td>\n",
       "    </tr>\n",
       "    <tr>\n",
       "      <th>4</th>\n",
       "      <td>4</td>\n",
       "      <td>Penguin</td>\n",
       "    </tr>\n",
       "  </tbody>\n",
       "</table>\n",
       "</div>"
      ],
      "text/plain": [
       "   filepaths   labels\n",
       "0          0  Penguin\n",
       "1          1  Penguin\n",
       "2          2   Turtle\n",
       "3          3   Turtle\n",
       "4          4  Penguin"
      ]
     },
     "execution_count": 10,
     "metadata": {},
     "output_type": "execute_result"
    }
   ],
   "source": [
    "train_anno.columns = ['filepaths', 'labels']\n",
    "train_anno. head()"
   ]
  },
  {
   "cell_type": "code",
   "execution_count": 12,
   "id": "7a3ba0b3",
   "metadata": {},
   "outputs": [],
   "source": [
    "# now in the filepaths column create the full path to the image file\n",
    "train_image_dir=r\"E:\\LiveProject\\Deep_Learning\\Penguins vs Turtles\\train\\train\""
   ]
  },
  {
   "cell_type": "code",
   "execution_count": 16,
   "id": "ff5d24a4",
   "metadata": {},
   "outputs": [],
   "source": [
    "train_imglist = sorted(os. listdir(train_image_dir))"
   ]
  },
  {
   "cell_type": "code",
   "execution_count": 18,
   "id": "d6a06337",
   "metadata": {},
   "outputs": [
    {
     "name": "stdout",
     "output_type": "stream",
     "text": [
      "E:\\LiveProject\\Deep_Learning\\Penguins vs Turtles\\train\\train\\image_id_000.jpg\n"
     ]
    }
   ],
   "source": [
    "train_paths = []\n",
    "for i in range (len(train_imglist)):\n",
    "    train_paths. append(os. path. join(train_image_dir, train_imglist[i]))\n",
    "print(train_paths[0])"
   ]
  },
  {
   "cell_type": "code",
   "execution_count": 19,
   "id": "de4c5f3a",
   "metadata": {},
   "outputs": [
    {
     "name": "stdout",
     "output_type": "stream",
     "text": [
      "                                           filepaths   labels\n",
      "0  E:\\LiveProject\\Deep_Learning\\Penguins vs Turtl...  Penguin\n",
      "1  E:\\LiveProject\\Deep_Learning\\Penguins vs Turtl...  Penguin\n",
      "2  E:\\LiveProject\\Deep_Learning\\Penguins vs Turtl...   Turtle\n",
      "3  E:\\LiveProject\\Deep_Learning\\Penguins vs Turtl...   Turtle\n",
      "4  E:\\LiveProject\\Deep_Learning\\Penguins vs Turtl...  Penguin\n"
     ]
    }
   ],
   "source": [
    "# now in the train_anno filepaths column insert the full filepath\n",
    "train_anno['filepaths']=train_paths\n",
    "print (train_anno.head())"
   ]
  },
  {
   "cell_type": "code",
   "execution_count": 59,
   "id": "a31a6351",
   "metadata": {},
   "outputs": [],
   "source": [
    "# Save the data to a CSV file\n",
    "#train_anno.to_csv('train_anno.csv', index=False)"
   ]
  },
  {
   "cell_type": "code",
   "execution_count": null,
   "id": "31a3e1c6",
   "metadata": {},
   "outputs": [],
   "source": []
  },
  {
   "cell_type": "code",
   "execution_count": null,
   "id": "1b8b1a8c",
   "metadata": {},
   "outputs": [],
   "source": [
    "## valid annotations"
   ]
  },
  {
   "cell_type": "code",
   "execution_count": 20,
   "id": "9d07fe73",
   "metadata": {},
   "outputs": [],
   "source": [
    "# Do the same for the valid annotations\n",
    "valid_df=pd.read_json(r\"E:\\LiveProject\\Deep_Learning\\Penguins vs Turtles\\valid_annotations\")\n",
    "valid_df=valid_df.drop(['id', 'bbox', 'area', 'segmentation', 'iscrowd'], axis =1)"
   ]
  },
  {
   "cell_type": "code",
   "execution_count": 21,
   "id": "d49b1ba0",
   "metadata": {},
   "outputs": [],
   "source": [
    "# lets replace the numeric class designation with the test name of the class\n",
    "valid_df['category_id']=valid_df['category_id'].replace({1:'Penguin',2:'Turtle'})\n",
    "valid_df.columns=['filepaths', 'labels']"
   ]
  },
  {
   "cell_type": "code",
   "execution_count": 22,
   "id": "16d98926",
   "metadata": {},
   "outputs": [],
   "source": [
    "# now in the filepaths column create the full path to the image file\n",
    "valid_image_dir=r\"E:\\LiveProject\\Deep_Learning\\Penguins vs Turtles\\valid\\valid\"\n",
    "valid_imglist=sorted(os.listdir(valid_image_dir))"
   ]
  },
  {
   "cell_type": "code",
   "execution_count": 23,
   "id": "bdc038c3",
   "metadata": {},
   "outputs": [
    {
     "data": {
      "text/html": [
       "<div>\n",
       "<style scoped>\n",
       "    .dataframe tbody tr th:only-of-type {\n",
       "        vertical-align: middle;\n",
       "    }\n",
       "\n",
       "    .dataframe tbody tr th {\n",
       "        vertical-align: top;\n",
       "    }\n",
       "\n",
       "    .dataframe thead th {\n",
       "        text-align: right;\n",
       "    }\n",
       "</style>\n",
       "<table border=\"1\" class=\"dataframe\">\n",
       "  <thead>\n",
       "    <tr style=\"text-align: right;\">\n",
       "      <th></th>\n",
       "      <th>filepaths</th>\n",
       "      <th>labels</th>\n",
       "    </tr>\n",
       "  </thead>\n",
       "  <tbody>\n",
       "    <tr>\n",
       "      <th>0</th>\n",
       "      <td>E:\\LiveProject\\Deep_Learning\\Penguins vs Turtl...</td>\n",
       "      <td>Penguin</td>\n",
       "    </tr>\n",
       "    <tr>\n",
       "      <th>1</th>\n",
       "      <td>E:\\LiveProject\\Deep_Learning\\Penguins vs Turtl...</td>\n",
       "      <td>Turtle</td>\n",
       "    </tr>\n",
       "    <tr>\n",
       "      <th>2</th>\n",
       "      <td>E:\\LiveProject\\Deep_Learning\\Penguins vs Turtl...</td>\n",
       "      <td>Turtle</td>\n",
       "    </tr>\n",
       "    <tr>\n",
       "      <th>3</th>\n",
       "      <td>E:\\LiveProject\\Deep_Learning\\Penguins vs Turtl...</td>\n",
       "      <td>Penguin</td>\n",
       "    </tr>\n",
       "    <tr>\n",
       "      <th>4</th>\n",
       "      <td>E:\\LiveProject\\Deep_Learning\\Penguins vs Turtl...</td>\n",
       "      <td>Penguin</td>\n",
       "    </tr>\n",
       "  </tbody>\n",
       "</table>\n",
       "</div>"
      ],
      "text/plain": [
       "                                           filepaths   labels\n",
       "0  E:\\LiveProject\\Deep_Learning\\Penguins vs Turtl...  Penguin\n",
       "1  E:\\LiveProject\\Deep_Learning\\Penguins vs Turtl...   Turtle\n",
       "2  E:\\LiveProject\\Deep_Learning\\Penguins vs Turtl...   Turtle\n",
       "3  E:\\LiveProject\\Deep_Learning\\Penguins vs Turtl...  Penguin\n",
       "4  E:\\LiveProject\\Deep_Learning\\Penguins vs Turtl...  Penguin"
      ]
     },
     "execution_count": 23,
     "metadata": {},
     "output_type": "execute_result"
    }
   ],
   "source": [
    "valid_paths=[]\n",
    "for i in range (len(valid_imglist)):\n",
    "    valid_paths.append(os.path.join(valid_image_dir, valid_imglist[i]))\n",
    "valid_df['filepaths']=valid_paths\n",
    "valid_df.head()"
   ]
  },
  {
   "cell_type": "code",
   "execution_count": 65,
   "id": "ccbc3b10",
   "metadata": {},
   "outputs": [],
   "source": [
    "# Save the data to a CSV file\n",
    "#valid_df.to_csv('valid_anno.csv', index=False)"
   ]
  },
  {
   "cell_type": "code",
   "execution_count": 50,
   "id": "1715020a",
   "metadata": {},
   "outputs": [],
   "source": [
    "import numpy as np\n",
    "import pandas as pd\n",
    "import tensorflow as tf\n",
    "from tensorflow.keras.preprocessing.image import ImageDataGenerator\n",
    "from tensorflow.keras.applications import VGG16\n",
    "from tensorflow.keras.models import Sequential\n",
    "from tensorflow.keras.layers import Dense, Dropout, Flatten\n",
    "from sklearn.utils import class_weight\n",
    "from tensorflow. keras.optimizers import Adamax"
   ]
  },
  {
   "cell_type": "code",
   "execution_count": 28,
   "id": "d491ff7f",
   "metadata": {},
   "outputs": [],
   "source": [
    "# Data preprocessing\n",
    "#datagen = ImageDataGenerator(rescale=1./255, validation_split=0.2)"
   ]
  },
  {
   "cell_type": "markdown",
   "id": "06dc3c21",
   "metadata": {},
   "source": [
    "# Create train and validation generators"
   ]
  },
  {
   "cell_type": "code",
   "execution_count": 41,
   "id": "8a6fe9e3",
   "metadata": {},
   "outputs": [],
   "source": [
    "train_datagen = ImageDataGenerator(rescale=1./255,\n",
    "                                   shear_range=0.2,\n",
    "                                   zoom_range=0.2,\n",
    "                                   #horizontal_flip=True,\n",
    "                                   #rotation_range=45,\n",
    "                                   #vertical_flip=True,\n",
    "                                   fill_mode='nearest')"
   ]
  },
  {
   "cell_type": "code",
   "execution_count": 42,
   "id": "1432bf4d",
   "metadata": {},
   "outputs": [],
   "source": [
    "test_datagen = ImageDataGenerator(rescale = 1./255)"
   ]
  },
  {
   "cell_type": "code",
   "execution_count": 44,
   "id": "8a2215cc",
   "metadata": {},
   "outputs": [
    {
     "name": "stdout",
     "output_type": "stream",
     "text": [
      "Found 500 validated image filenames belonging to 2 classes.\n"
     ]
    }
   ],
   "source": [
    "train_generator = train_datagen. flow_from_dataframe(dataframe = train_anno,\n",
    "                                                    x_col=\"filepaths\",\n",
    "                                                    color_mode='rgb',\n",
    "                                                    y_col=\"labels\",\n",
    "                                                    target_size=(200, 200),\n",
    "                                                    batch_size=40,\n",
    "                                                     seed = 123,\n",
    "                                                    class_mode=\"binary\")"
   ]
  },
  {
   "cell_type": "code",
   "execution_count": 45,
   "id": "13237990",
   "metadata": {},
   "outputs": [
    {
     "name": "stdout",
     "output_type": "stream",
     "text": [
      "Found 72 validated image filenames belonging to 2 classes.\n"
     ]
    }
   ],
   "source": [
    "test_generator = test_datagen. flow_from_dataframe(dataframe = valid_df,\n",
    "                                                  x_col = \"filepaths\",\n",
    "                                                  y_col = \"labels\",\n",
    "                                                   color_mode='rgb',\n",
    "                                                  target_size = (200,200),\n",
    "                                                   seed = 123,\n",
    "                                                   batch_size = 40,\n",
    "                                                   class_mode = \"binary\")"
   ]
  },
  {
   "cell_type": "code",
   "execution_count": 46,
   "id": "93a3cf6a",
   "metadata": {},
   "outputs": [],
   "source": [
    "# Build the model with VGG16\n",
    "base_model = tf.keras.applications.EfficientNetV2B0(weights='imagenet', \n",
    "                                                    include_top=False, \n",
    "                                                    input_shape=(100, 100, 3), \n",
    "                                                    pooling='max')"
   ]
  },
  {
   "cell_type": "code",
   "execution_count": 47,
   "id": "3ea9fbff",
   "metadata": {},
   "outputs": [],
   "source": [
    "for layer in base_model.layers:\n",
    "    layer.trainable = False\n",
    "\n",
    "model = Sequential()\n",
    "model.add(base_model)\n",
    "model.add(Flatten())\n",
    "model.add(Dense(512, activation='relu'))\n",
    "model.add(Dropout(0.5))\n",
    "model.add(Dense(1, activation='sigmoid'))"
   ]
  },
  {
   "cell_type": "code",
   "execution_count": 55,
   "id": "9f81add6",
   "metadata": {},
   "outputs": [],
   "source": [
    "# compling the model\n",
    "learning_rate = 0.001\n",
    "optimizer = Adamax(learning_rate=learning_rate)\n",
    "model.compile(optimizer=optimizer, loss='binary_crossentropy', metrics=['accuracy'])"
   ]
  },
  {
   "cell_type": "code",
   "execution_count": 57,
   "id": "de9665e4",
   "metadata": {},
   "outputs": [],
   "source": [
    "# lets define 2 callbacks , reduce learning rate on plateau and early stopping\n",
    "rlronp=tf.keras.callbacks.ReduceLROnPlateau( monitor=\"val_loss\", factor=0.4,  patience=2,\n",
    "                                            verbose=1)\n",
    "estop=tf.keras.callbacks.EarlyStopping(monitor=\"val_loss\", patience=4,restore_best_weights=True)\n",
    "callbacks=[rlronp, estop]"
   ]
  },
  {
   "cell_type": "code",
   "execution_count": 58,
   "id": "7c99c128",
   "metadata": {},
   "outputs": [
    {
     "name": "stdout",
     "output_type": "stream",
     "text": [
      "Epoch 1/50\n",
      "13/13 [==============================] - 25s 1s/step - loss: 3.0260 - accuracy: 0.5320 - val_loss: 2.2421 - val_accuracy: 0.5000 - lr: 0.0010\n",
      "Epoch 2/50\n",
      "13/13 [==============================] - 15s 1s/step - loss: 1.5351 - accuracy: 0.4800 - val_loss: 1.3784 - val_accuracy: 0.5000 - lr: 0.0010\n",
      "Epoch 3/50\n",
      "13/13 [==============================] - 14s 1s/step - loss: 1.1015 - accuracy: 0.4820 - val_loss: 0.7477 - val_accuracy: 0.5000 - lr: 0.0010\n",
      "Epoch 4/50\n",
      "13/13 [==============================] - 15s 1s/step - loss: 0.9555 - accuracy: 0.4800 - val_loss: 0.7005 - val_accuracy: 0.5000 - lr: 0.0010\n",
      "Epoch 5/50\n",
      "13/13 [==============================] - 15s 1s/step - loss: 0.7961 - accuracy: 0.5180 - val_loss: 0.7025 - val_accuracy: 0.5000 - lr: 0.0010\n",
      "Epoch 6/50\n",
      "13/13 [==============================] - ETA: 0s - loss: 0.7342 - accuracy: 0.5320\n",
      "Epoch 6: ReduceLROnPlateau reducing learning rate to 0.0004000000189989805.\n",
      "13/13 [==============================] - 15s 1s/step - loss: 0.7342 - accuracy: 0.5320 - val_loss: 0.7045 - val_accuracy: 0.5000 - lr: 0.0010\n",
      "Epoch 7/50\n",
      "13/13 [==============================] - 16s 1s/step - loss: 0.7604 - accuracy: 0.4780 - val_loss: 0.6989 - val_accuracy: 0.5000 - lr: 4.0000e-04\n",
      "Epoch 8/50\n",
      "13/13 [==============================] - 15s 1s/step - loss: 0.7204 - accuracy: 0.5120 - val_loss: 0.7018 - val_accuracy: 0.5000 - lr: 4.0000e-04\n",
      "Epoch 9/50\n",
      "13/13 [==============================] - 14s 1s/step - loss: 0.7205 - accuracy: 0.4820 - val_loss: 0.6974 - val_accuracy: 0.5000 - lr: 4.0000e-04\n",
      "Epoch 10/50\n",
      "13/13 [==============================] - 14s 1s/step - loss: 0.7216 - accuracy: 0.5020 - val_loss: 0.6925 - val_accuracy: 0.5278 - lr: 4.0000e-04\n",
      "Epoch 11/50\n",
      "13/13 [==============================] - 14s 1s/step - loss: 0.7150 - accuracy: 0.4940 - val_loss: 0.6923 - val_accuracy: 0.5000 - lr: 4.0000e-04\n",
      "Epoch 12/50\n",
      "13/13 [==============================] - 14s 1s/step - loss: 0.7253 - accuracy: 0.4680 - val_loss: 0.6949 - val_accuracy: 0.5000 - lr: 4.0000e-04\n",
      "Epoch 13/50\n",
      "13/13 [==============================] - ETA: 0s - loss: 0.7178 - accuracy: 0.4820\n",
      "Epoch 13: ReduceLROnPlateau reducing learning rate to 0.00016000000759959222.\n",
      "13/13 [==============================] - 15s 1s/step - loss: 0.7178 - accuracy: 0.4820 - val_loss: 0.6956 - val_accuracy: 0.5000 - lr: 4.0000e-04\n",
      "Epoch 14/50\n",
      "13/13 [==============================] - 19s 1s/step - loss: 0.7078 - accuracy: 0.4780 - val_loss: 0.6922 - val_accuracy: 0.4861 - lr: 1.6000e-04\n",
      "Epoch 15/50\n",
      "13/13 [==============================] - ETA: 0s - loss: 0.6902 - accuracy: 0.5420\n",
      "Epoch 15: ReduceLROnPlateau reducing learning rate to 6.40000042039901e-05.\n",
      "13/13 [==============================] - 16s 1s/step - loss: 0.6902 - accuracy: 0.5420 - val_loss: 0.6937 - val_accuracy: 0.5000 - lr: 1.6000e-04\n",
      "Epoch 16/50\n",
      "13/13 [==============================] - 14s 1s/step - loss: 0.6993 - accuracy: 0.5280 - val_loss: 0.6926 - val_accuracy: 0.5417 - lr: 6.4000e-05\n",
      "Epoch 17/50\n",
      "13/13 [==============================] - ETA: 0s - loss: 0.7075 - accuracy: 0.4780\n",
      "Epoch 17: ReduceLROnPlateau reducing learning rate to 2.560000284574926e-05.\n",
      "13/13 [==============================] - 14s 1s/step - loss: 0.7075 - accuracy: 0.4780 - val_loss: 0.6928 - val_accuracy: 0.4861 - lr: 6.4000e-05\n",
      "Epoch 18/50\n",
      "13/13 [==============================] - 13s 1s/step - loss: 0.6922 - accuracy: 0.5220 - val_loss: 0.6927 - val_accuracy: 0.5278 - lr: 2.5600e-05\n"
     ]
    }
   ],
   "source": [
    "history = model.fit(train_generator, epochs=50, callbacks=callbacks, validation_data=test_generator)"
   ]
  },
  {
   "cell_type": "code",
   "execution_count": 60,
   "id": "1f754a8f",
   "metadata": {},
   "outputs": [
    {
     "name": "stdout",
     "output_type": "stream",
     "text": [
      "2/2 [==============================] - 2s 712ms/step - loss: 0.6922 - accuracy: 0.4861\n",
      "Test Loss: 0.69222491979599\n",
      "Test Accuracy: 0.4861111044883728\n"
     ]
    }
   ],
   "source": [
    "# Evaluate the model on the test set\n",
    "test_loss, test_acc = model.evaluate(test_generator)\n",
    "print('Test Loss:', test_loss)\n",
    "print('Test Accuracy:', test_acc)"
   ]
  },
  {
   "cell_type": "code",
   "execution_count": 61,
   "id": "c1886119",
   "metadata": {},
   "outputs": [
    {
     "data": {
      "image/png": "[encoded data removed]",
      "text/plain": [
       "<Figure size 640x480 with 1 Axes>"
      ]
     },
     "metadata": {},
     "output_type": "display_data"
    },
    {
     "data": {
      "text/plain": [
       "<Figure size 640x480 with 0 Axes>"
      ]
     },
     "metadata": {},
     "output_type": "display_data"
    }
   ],
   "source": [
    "import matplotlib.pyplot as plt\n",
    "\n",
    "# Plot the loss\n",
    "plt.plot(history.history['loss'], label='Training Loss')\n",
    "plt.plot(history.history['val_loss'], label='Validation Loss')\n",
    "plt.legend()\n",
    "plt.show()\n",
    "plt.savefig('LossVal_loss')"
   ]
  },
  {
   "cell_type": "code",
   "execution_count": 62,
   "id": "6afa2041",
   "metadata": {},
   "outputs": [
    {
     "data": {
      "image/png": "[encoded data removed]",
      "text/plain": [
       "<Figure size 640x480 with 1 Axes>"
      ]
     },
     "metadata": {},
     "output_type": "display_data"
    },
    {
     "data": {
      "text/plain": [
       "<Figure size 640x480 with 0 Axes>"
      ]
     },
     "metadata": {},
     "output_type": "display_data"
    }
   ],
   "source": [
    "# Plot the accuracy\n",
    "plt.plot(history.history['accuracy'], label='Training Accuracy')\n",
    "plt.plot(history.history['val_accuracy'], label='Validation Accuracy')\n",
    "plt.legend()\n",
    "plt.show()\n",
    "plt.savefig('AccVal_acc')"
   ]
  },
  {
   "cell_type": "code",
   "execution_count": 63,
   "id": "aac496a6",
   "metadata": {},
   "outputs": [
    {
     "name": "stderr",
     "output_type": "stream",
     "text": [
      "WARNING:absl:Function `_wrapped_model` contains input name(s) efficientnetv2-b0_input with unsupported characters which will be renamed to efficientnetv2_b0_input in the SavedModel.\n",
      "WARNING:absl:`efficientnetv2-b0_input` is not a valid tf.function parameter name. Sanitizing to `efficientnetv2_b0_input`.\n",
      "WARNING:absl:`efficientnetv2-b0_input` is not a valid tf.function parameter name. Sanitizing to `efficientnetv2_b0_input`.\n",
      "WARNING:absl:`efficientnetv2-b0_input` is not a valid tf.function parameter name. Sanitizing to `efficientnetv2_b0_input`.\n",
      "WARNING:absl:Found untraced functions such as _update_step_xla, _jit_compiled_convolution_op, _jit_compiled_convolution_op, _jit_compiled_convolution_op, _jit_compiled_convolution_op while saving (showing 5 of 92). These functions will not be directly callable after loading.\n"
     ]
    },
    {
     "name": "stdout",
     "output_type": "stream",
     "text": [
      "INFO:tensorflow:Assets written to: your_model.h10\\assets\n"
     ]
    },
    {
     "name": "stderr",
     "output_type": "stream",
     "text": [
      "INFO:tensorflow:Assets written to: your_model.h10\\assets\n"
     ]
    }
   ],
   "source": [
    "# Save the model\n",
    "model.save(\"your_model.h10\")"
   ]
  },
  {
   "cell_type": "code",
   "execution_count": 64,
   "id": "6cdb7522",
   "metadata": {},
   "outputs": [],
   "source": [
    "import pickle\n",
    "pickle. dump(model, open(\"penguine_turtles.pkl\", \"wb\"))"
   ]
  },
  {
   "cell_type": "code",
   "execution_count": null,
   "id": "b24982c6",
   "metadata": {},
   "outputs": [],
   "source": []
  }
 ],
 "metadata": {
  "kernelspec": {
   "display_name": "Python 3 (ipykernel)",
   "language": "python",
   "name": "python3"
  },
  "language_info": {
   "codemirror_mode": {
    "name": "ipython",
    "version": 3
   },
   "file_extension": ".py",
   "mimetype": "text/x-python",
   "name": "python",
   "nbconvert_exporter": "python",
   "pygments_lexer": "ipython3",
   "version": "3.10.9"
  }
 },
 "nbformat": 4,
 "nbformat_minor": 5
}
